{
 "cells": [
  {
   "cell_type": "markdown",
   "id": "0bdc6ad8",
   "metadata": {},
   "source": [
    "# Principal Component Analysis for Customer Base \n",
    "\n",
    "Welcome to my notebook, where we will be using Principal Component Analysis with SKlearn in Python to gain a better understanding of the purchasing patterns of consumption in the Dram Shop. We will be utilizing Google BigQuery and SQL to extract the data for our sample, which contains a large number of features to enable us to gain valuable insights into consumer behavior."
   ]
  },
  {
   "cell_type": "code",
   "execution_count": 1,
   "id": "f344d5a0",
   "metadata": {},
   "outputs": [],
   "source": [
    "import pandas as pd\n",
    "import numpy as np\n",
    "import matplotlib.pyplot as plt\n",
    "import pandas_gbq\n",
    "import os\n",
    "\n",
    "from sklearn.decomposition import PCA\n",
    "from google.cloud import bigquery\n",
    "from google.oauth2 import service_account"
   ]
  },
  {
   "cell_type": "markdown",
   "id": "3ec1d0bb",
   "metadata": {},
   "source": [
    "# Connecting to Google BigQuery"
   ]
  },
  {
   "cell_type": "code",
   "execution_count": 2,
   "id": "0b521b9c",
   "metadata": {},
   "outputs": [],
   "source": [
    "##                                                       ###\n",
    "## This information has been cleared to protect privacy. ###\n",
    "##       \n",
    "\n",
    "service_path =\n",
    "service_file =    \n",
    "gbq_proj_id =   \n",
    "dataset_id = \n",
    "\n",
    "# And this should stay the same. \n",
    "private_key = service_path + service_file"
   ]
  },
  {
   "cell_type": "code",
   "execution_count": 3,
   "id": "edfd2686",
   "metadata": {},
   "outputs": [],
   "source": [
    "# Now we pass in our credentials so that Python has permission to access our project.\n",
    "credentials = service_account.Credentials.from_service_account_file(service_path + service_file)"
   ]
  },
  {
   "cell_type": "code",
   "execution_count": 4,
   "id": "14b27319",
   "metadata": {},
   "outputs": [],
   "source": [
    "# And finally we establish our connection\n",
    "client = bigquery.Client(credentials = credentials, project=gbq_proj_id)"
   ]
  },
  {
   "cell_type": "markdown",
   "id": "9ea46f67",
   "metadata": {},
   "source": [
    "# Pull Data From GBQ\n",
    "This query accesses my data set that is on Google BigQuery. You can see the data for our `gross_sales` was uploaded as a string. This was casted back into numeric value here. This can be solved by reuploading as a numeric in another instance."
   ]
  },
  {
   "cell_type": "code",
   "execution_count": 6,
   "id": "cdb7cbf2",
   "metadata": {},
   "outputs": [
    {
     "name": "stderr",
     "output_type": "stream",
     "text": [
      "Downloading: 100%|█████████████████| 147123/147123 [00:05<00:00, 25912.28rows/s]\n"
     ]
    }
   ],
   "source": [
    "top_gross_sales = \"\"\"SELECT original.customer_id as customer_id,\n",
    "                itl.beverage as beverage,\n",
    "                SUM(CAST(gross_sales as numeric)) as gross_sales\n",
    "            from `albee-msba.dram_shop.dram_items_*` as original\n",
    "            INNER JOIN `albee-msba.dram_shop.item_lookup_updated` as itl on itl.item = original.item\n",
    "            where beverage in (SELECT itl.beverage,\n",
    "                              from `albee-msba.dram_shop.dram_items_*` as og\n",
    "                              INNER JOIN `albee-msba.dram_shop.item_lookup_updated` as itl on itl.item = og.item\n",
    "                              group by itl.beverage, gross_sales\n",
    "                              order by gross_sales DESC\n",
    "                              LIMIT 1000)\n",
    "            and customer_id IS NOT NULL\n",
    "            and itl.beverage != \"custom amount\"\n",
    "            group by customer_id, itl.beverage\n",
    "            order by gross_sales DESC;\n",
    "            \"\"\"\n",
    "\n",
    "customers_top_1000_bevs = pandas_gbq.read_gbq(top_gross_sales,project_id = gbq_proj_id)"
   ]
  },
  {
   "cell_type": "markdown",
   "id": "1fe107db",
   "metadata": {},
   "source": [
    "## Pivot Function\n",
    "Using the pandas function `pivot`, pivot the data into a \"wide\" format with customer IDs as the rows and beverages as the items. You can see an example "
   ]
  },
  {
   "cell_type": "code",
   "execution_count": 30,
   "id": "38b7e8ef",
   "metadata": {},
   "outputs": [],
   "source": [
    "df_pivot = customers_top_1000_bevs.pivot(index = 'customer_id',columns = 'beverage',values = 'gross_sales').fillna(0)"
   ]
  },
  {
   "cell_type": "code",
   "execution_count": 31,
   "id": "d65a2e11",
   "metadata": {},
   "outputs": [
    {
     "data": {
      "text/html": [
       "<div>\n",
       "<style scoped>\n",
       "    .dataframe tbody tr th:only-of-type {\n",
       "        vertical-align: middle;\n",
       "    }\n",
       "\n",
       "    .dataframe tbody tr th {\n",
       "        vertical-align: top;\n",
       "    }\n",
       "\n",
       "    .dataframe thead th {\n",
       "        text-align: right;\n",
       "    }\n",
       "</style>\n",
       "<table border=\"1\" class=\"dataframe\">\n",
       "  <thead>\n",
       "    <tr style=\"text-align: right;\">\n",
       "      <th>beverage</th>\n",
       "      <th>$3 draught works yo!</th>\n",
       "      <th>$3 great burn yo!</th>\n",
       "      <th>$6 token</th>\n",
       "      <th>- great burn</th>\n",
       "      <th>- head full of fresh hops 16oz can</th>\n",
       "      <th>- lawyers, guns, and money</th>\n",
       "      <th>- robot panda hazy ipa</th>\n",
       "      <th>- summer ale</th>\n",
       "      <th>00 wine tasting!</th>\n",
       "      <th>0017p powder hound -</th>\n",
       "      <th>...</th>\n",
       "      <th>yaakity yak</th>\n",
       "      <th>yamabiko rice lager</th>\n",
       "      <th>yard sale amber</th>\n",
       "      <th>yellow snow</th>\n",
       "      <th>z crazy mt. - lawyers, guns, and money</th>\n",
       "      <th>z dunkertons dry organic cider</th>\n",
       "      <th>z raspberry - lockhorn</th>\n",
       "      <th>z western cider mcintosh</th>\n",
       "      <th>z whitetail whit - beaverhead</th>\n",
       "      <th>z39w les vignerones estezargues \"from the tank\"</th>\n",
       "    </tr>\n",
       "    <tr>\n",
       "      <th>customer_id</th>\n",
       "      <th></th>\n",
       "      <th></th>\n",
       "      <th></th>\n",
       "      <th></th>\n",
       "      <th></th>\n",
       "      <th></th>\n",
       "      <th></th>\n",
       "      <th></th>\n",
       "      <th></th>\n",
       "      <th></th>\n",
       "      <th></th>\n",
       "      <th></th>\n",
       "      <th></th>\n",
       "      <th></th>\n",
       "      <th></th>\n",
       "      <th></th>\n",
       "      <th></th>\n",
       "      <th></th>\n",
       "      <th></th>\n",
       "      <th></th>\n",
       "      <th></th>\n",
       "    </tr>\n",
       "  </thead>\n",
       "  <tbody>\n",
       "    <tr>\n",
       "      <th>,</th>\n",
       "      <td>0</td>\n",
       "      <td>0</td>\n",
       "      <td>0</td>\n",
       "      <td>9.000000000</td>\n",
       "      <td>0</td>\n",
       "      <td>0</td>\n",
       "      <td>0</td>\n",
       "      <td>0</td>\n",
       "      <td>30.000000000</td>\n",
       "      <td>0</td>\n",
       "      <td>...</td>\n",
       "      <td>5.500000000</td>\n",
       "      <td>5.000000000</td>\n",
       "      <td>0</td>\n",
       "      <td>23.000000000</td>\n",
       "      <td>0</td>\n",
       "      <td>0</td>\n",
       "      <td>0</td>\n",
       "      <td>0</td>\n",
       "      <td>0</td>\n",
       "      <td>0</td>\n",
       "    </tr>\n",
       "    <tr>\n",
       "      <th>, ,</th>\n",
       "      <td>0</td>\n",
       "      <td>0</td>\n",
       "      <td>0</td>\n",
       "      <td>0</td>\n",
       "      <td>0</td>\n",
       "      <td>0</td>\n",
       "      <td>0</td>\n",
       "      <td>0</td>\n",
       "      <td>0</td>\n",
       "      <td>0</td>\n",
       "      <td>...</td>\n",
       "      <td>0</td>\n",
       "      <td>0</td>\n",
       "      <td>0</td>\n",
       "      <td>0</td>\n",
       "      <td>0</td>\n",
       "      <td>0</td>\n",
       "      <td>0</td>\n",
       "      <td>0</td>\n",
       "      <td>0</td>\n",
       "      <td>0</td>\n",
       "    </tr>\n",
       "    <tr>\n",
       "      <th>, , ,</th>\n",
       "      <td>0</td>\n",
       "      <td>0</td>\n",
       "      <td>0</td>\n",
       "      <td>0</td>\n",
       "      <td>0</td>\n",
       "      <td>0</td>\n",
       "      <td>0</td>\n",
       "      <td>0</td>\n",
       "      <td>0</td>\n",
       "      <td>0</td>\n",
       "      <td>...</td>\n",
       "      <td>0</td>\n",
       "      <td>0</td>\n",
       "      <td>0</td>\n",
       "      <td>0</td>\n",
       "      <td>0</td>\n",
       "      <td>0</td>\n",
       "      <td>0</td>\n",
       "      <td>0</td>\n",
       "      <td>0</td>\n",
       "      <td>0</td>\n",
       "    </tr>\n",
       "    <tr>\n",
       "      <th>, , , 9YK82GERX11JAP9EE8Q5PW9SBC</th>\n",
       "      <td>0</td>\n",
       "      <td>0</td>\n",
       "      <td>0</td>\n",
       "      <td>0</td>\n",
       "      <td>0</td>\n",
       "      <td>0</td>\n",
       "      <td>0</td>\n",
       "      <td>0</td>\n",
       "      <td>0</td>\n",
       "      <td>0</td>\n",
       "      <td>...</td>\n",
       "      <td>0</td>\n",
       "      <td>0</td>\n",
       "      <td>0</td>\n",
       "      <td>0</td>\n",
       "      <td>0</td>\n",
       "      <td>0</td>\n",
       "      <td>0</td>\n",
       "      <td>0</td>\n",
       "      <td>0</td>\n",
       "      <td>0</td>\n",
       "    </tr>\n",
       "    <tr>\n",
       "      <th>, , 6JAXPMTP114Y4JQX2TG83JFGQ0</th>\n",
       "      <td>0</td>\n",
       "      <td>0</td>\n",
       "      <td>0</td>\n",
       "      <td>0</td>\n",
       "      <td>0</td>\n",
       "      <td>0</td>\n",
       "      <td>0</td>\n",
       "      <td>0</td>\n",
       "      <td>0</td>\n",
       "      <td>0</td>\n",
       "      <td>...</td>\n",
       "      <td>0</td>\n",
       "      <td>0</td>\n",
       "      <td>0</td>\n",
       "      <td>0</td>\n",
       "      <td>0</td>\n",
       "      <td>0</td>\n",
       "      <td>0</td>\n",
       "      <td>0</td>\n",
       "      <td>0</td>\n",
       "      <td>0</td>\n",
       "    </tr>\n",
       "    <tr>\n",
       "      <th>, , 85XDD551T95Z4XHVF1TQKFCV2C</th>\n",
       "      <td>0</td>\n",
       "      <td>0</td>\n",
       "      <td>0</td>\n",
       "      <td>0</td>\n",
       "      <td>0</td>\n",
       "      <td>0</td>\n",
       "      <td>0</td>\n",
       "      <td>0</td>\n",
       "      <td>0</td>\n",
       "      <td>0</td>\n",
       "      <td>...</td>\n",
       "      <td>0</td>\n",
       "      <td>0</td>\n",
       "      <td>0</td>\n",
       "      <td>0</td>\n",
       "      <td>0</td>\n",
       "      <td>0</td>\n",
       "      <td>0</td>\n",
       "      <td>0</td>\n",
       "      <td>0</td>\n",
       "      <td>0</td>\n",
       "    </tr>\n",
       "    <tr>\n",
       "      <th>, , B61BK65Q1D2YQ1543MRXE8PDMW,</th>\n",
       "      <td>0</td>\n",
       "      <td>0</td>\n",
       "      <td>0</td>\n",
       "      <td>0</td>\n",
       "      <td>0</td>\n",
       "      <td>0</td>\n",
       "      <td>0</td>\n",
       "      <td>0</td>\n",
       "      <td>0</td>\n",
       "      <td>0</td>\n",
       "      <td>...</td>\n",
       "      <td>0</td>\n",
       "      <td>0</td>\n",
       "      <td>0</td>\n",
       "      <td>0</td>\n",
       "      <td>0</td>\n",
       "      <td>0</td>\n",
       "      <td>0</td>\n",
       "      <td>0</td>\n",
       "      <td>0</td>\n",
       "      <td>0</td>\n",
       "    </tr>\n",
       "    <tr>\n",
       "      <th>, , FBC8SYMM9X6BAT939T433N5QAW</th>\n",
       "      <td>0</td>\n",
       "      <td>0</td>\n",
       "      <td>0</td>\n",
       "      <td>0</td>\n",
       "      <td>0</td>\n",
       "      <td>0</td>\n",
       "      <td>0</td>\n",
       "      <td>0</td>\n",
       "      <td>0</td>\n",
       "      <td>0</td>\n",
       "      <td>...</td>\n",
       "      <td>0</td>\n",
       "      <td>0</td>\n",
       "      <td>0</td>\n",
       "      <td>0</td>\n",
       "      <td>0</td>\n",
       "      <td>0</td>\n",
       "      <td>0</td>\n",
       "      <td>0</td>\n",
       "      <td>0</td>\n",
       "      <td>0</td>\n",
       "    </tr>\n",
       "    <tr>\n",
       "      <th>, , M3PMH9XD4D1F1BE7EDP6FEN6WW,</th>\n",
       "      <td>0</td>\n",
       "      <td>0</td>\n",
       "      <td>0</td>\n",
       "      <td>0</td>\n",
       "      <td>0</td>\n",
       "      <td>0</td>\n",
       "      <td>0</td>\n",
       "      <td>0</td>\n",
       "      <td>0</td>\n",
       "      <td>0</td>\n",
       "      <td>...</td>\n",
       "      <td>0</td>\n",
       "      <td>0</td>\n",
       "      <td>0</td>\n",
       "      <td>0</td>\n",
       "      <td>0</td>\n",
       "      <td>0</td>\n",
       "      <td>0</td>\n",
       "      <td>0</td>\n",
       "      <td>0</td>\n",
       "      <td>0</td>\n",
       "    </tr>\n",
       "    <tr>\n",
       "      <th>, , N330DW4MT563B0Z5ET8H78WKY4</th>\n",
       "      <td>0</td>\n",
       "      <td>0</td>\n",
       "      <td>0</td>\n",
       "      <td>0</td>\n",
       "      <td>0</td>\n",
       "      <td>0</td>\n",
       "      <td>0</td>\n",
       "      <td>0</td>\n",
       "      <td>0</td>\n",
       "      <td>0</td>\n",
       "      <td>...</td>\n",
       "      <td>0</td>\n",
       "      <td>0</td>\n",
       "      <td>0</td>\n",
       "      <td>0</td>\n",
       "      <td>0</td>\n",
       "      <td>0</td>\n",
       "      <td>0</td>\n",
       "      <td>0</td>\n",
       "      <td>0</td>\n",
       "      <td>0</td>\n",
       "    </tr>\n",
       "  </tbody>\n",
       "</table>\n",
       "<p>10 rows × 922 columns</p>\n",
       "</div>"
      ],
      "text/plain": [
       "beverage                         $3 draught works yo! $3 great burn yo!  \\\n",
       "customer_id                                                               \n",
       ",                                                   0                 0   \n",
       ", ,                                                 0                 0   \n",
       ", , ,                                               0                 0   \n",
       ", , , 9YK82GERX11JAP9EE8Q5PW9SBC                    0                 0   \n",
       ", , 6JAXPMTP114Y4JQX2TG83JFGQ0                      0                 0   \n",
       ", , 85XDD551T95Z4XHVF1TQKFCV2C                      0                 0   \n",
       ", , B61BK65Q1D2YQ1543MRXE8PDMW,                     0                 0   \n",
       ", , FBC8SYMM9X6BAT939T433N5QAW                      0                 0   \n",
       ", , M3PMH9XD4D1F1BE7EDP6FEN6WW,                     0                 0   \n",
       ", , N330DW4MT563B0Z5ET8H78WKY4                      0                 0   \n",
       "\n",
       "beverage                         $6 token - great burn  \\\n",
       "customer_id                                              \n",
       ",                                       0  9.000000000   \n",
       ", ,                                     0            0   \n",
       ", , ,                                   0            0   \n",
       ", , , 9YK82GERX11JAP9EE8Q5PW9SBC        0            0   \n",
       ", , 6JAXPMTP114Y4JQX2TG83JFGQ0          0            0   \n",
       ", , 85XDD551T95Z4XHVF1TQKFCV2C          0            0   \n",
       ", , B61BK65Q1D2YQ1543MRXE8PDMW,         0            0   \n",
       ", , FBC8SYMM9X6BAT939T433N5QAW          0            0   \n",
       ", , M3PMH9XD4D1F1BE7EDP6FEN6WW,         0            0   \n",
       ", , N330DW4MT563B0Z5ET8H78WKY4          0            0   \n",
       "\n",
       "beverage                         - head full of fresh hops 16oz can  \\\n",
       "customer_id                                                           \n",
       ",                                                                 0   \n",
       ", ,                                                               0   \n",
       ", , ,                                                             0   \n",
       ", , , 9YK82GERX11JAP9EE8Q5PW9SBC                                  0   \n",
       ", , 6JAXPMTP114Y4JQX2TG83JFGQ0                                    0   \n",
       ", , 85XDD551T95Z4XHVF1TQKFCV2C                                    0   \n",
       ", , B61BK65Q1D2YQ1543MRXE8PDMW,                                   0   \n",
       ", , FBC8SYMM9X6BAT939T433N5QAW                                    0   \n",
       ", , M3PMH9XD4D1F1BE7EDP6FEN6WW,                                   0   \n",
       ", , N330DW4MT563B0Z5ET8H78WKY4                                    0   \n",
       "\n",
       "beverage                         - lawyers, guns, and money  \\\n",
       "customer_id                                                   \n",
       ",                                                         0   \n",
       ", ,                                                       0   \n",
       ", , ,                                                     0   \n",
       ", , , 9YK82GERX11JAP9EE8Q5PW9SBC                          0   \n",
       ", , 6JAXPMTP114Y4JQX2TG83JFGQ0                            0   \n",
       ", , 85XDD551T95Z4XHVF1TQKFCV2C                            0   \n",
       ", , B61BK65Q1D2YQ1543MRXE8PDMW,                           0   \n",
       ", , FBC8SYMM9X6BAT939T433N5QAW                            0   \n",
       ", , M3PMH9XD4D1F1BE7EDP6FEN6WW,                           0   \n",
       ", , N330DW4MT563B0Z5ET8H78WKY4                            0   \n",
       "\n",
       "beverage                         - robot panda hazy ipa - summer ale  \\\n",
       "customer_id                                                            \n",
       ",                                                     0            0   \n",
       ", ,                                                   0            0   \n",
       ", , ,                                                 0            0   \n",
       ", , , 9YK82GERX11JAP9EE8Q5PW9SBC                      0            0   \n",
       ", , 6JAXPMTP114Y4JQX2TG83JFGQ0                        0            0   \n",
       ", , 85XDD551T95Z4XHVF1TQKFCV2C                        0            0   \n",
       ", , B61BK65Q1D2YQ1543MRXE8PDMW,                       0            0   \n",
       ", , FBC8SYMM9X6BAT939T433N5QAW                        0            0   \n",
       ", , M3PMH9XD4D1F1BE7EDP6FEN6WW,                       0            0   \n",
       ", , N330DW4MT563B0Z5ET8H78WKY4                        0            0   \n",
       "\n",
       "beverage                         00 wine tasting! 0017p powder hound -  ...  \\\n",
       "customer_id                                                             ...   \n",
       ",                                    30.000000000                    0  ...   \n",
       ", ,                                             0                    0  ...   \n",
       ", , ,                                           0                    0  ...   \n",
       ", , , 9YK82GERX11JAP9EE8Q5PW9SBC                0                    0  ...   \n",
       ", , 6JAXPMTP114Y4JQX2TG83JFGQ0                  0                    0  ...   \n",
       ", , 85XDD551T95Z4XHVF1TQKFCV2C                  0                    0  ...   \n",
       ", , B61BK65Q1D2YQ1543MRXE8PDMW,                 0                    0  ...   \n",
       ", , FBC8SYMM9X6BAT939T433N5QAW                  0                    0  ...   \n",
       ", , M3PMH9XD4D1F1BE7EDP6FEN6WW,                 0                    0  ...   \n",
       ", , N330DW4MT563B0Z5ET8H78WKY4                  0                    0  ...   \n",
       "\n",
       "beverage                          yaakity yak yamabiko rice lager  \\\n",
       "customer_id                                                         \n",
       ",                                 5.500000000         5.000000000   \n",
       ", ,                                         0                   0   \n",
       ", , ,                                       0                   0   \n",
       ", , , 9YK82GERX11JAP9EE8Q5PW9SBC            0                   0   \n",
       ", , 6JAXPMTP114Y4JQX2TG83JFGQ0              0                   0   \n",
       ", , 85XDD551T95Z4XHVF1TQKFCV2C              0                   0   \n",
       ", , B61BK65Q1D2YQ1543MRXE8PDMW,             0                   0   \n",
       ", , FBC8SYMM9X6BAT939T433N5QAW              0                   0   \n",
       ", , M3PMH9XD4D1F1BE7EDP6FEN6WW,             0                   0   \n",
       ", , N330DW4MT563B0Z5ET8H78WKY4              0                   0   \n",
       "\n",
       "beverage                         yard sale amber   yellow snow  \\\n",
       "customer_id                                                      \n",
       ",                                              0  23.000000000   \n",
       ", ,                                            0             0   \n",
       ", , ,                                          0             0   \n",
       ", , , 9YK82GERX11JAP9EE8Q5PW9SBC               0             0   \n",
       ", , 6JAXPMTP114Y4JQX2TG83JFGQ0                 0             0   \n",
       ", , 85XDD551T95Z4XHVF1TQKFCV2C                 0             0   \n",
       ", , B61BK65Q1D2YQ1543MRXE8PDMW,                0             0   \n",
       ", , FBC8SYMM9X6BAT939T433N5QAW                 0             0   \n",
       ", , M3PMH9XD4D1F1BE7EDP6FEN6WW,                0             0   \n",
       ", , N330DW4MT563B0Z5ET8H78WKY4                 0             0   \n",
       "\n",
       "beverage                         z crazy mt. - lawyers, guns, and money  \\\n",
       "customer_id                                                               \n",
       ",                                                                     0   \n",
       ", ,                                                                   0   \n",
       ", , ,                                                                 0   \n",
       ", , , 9YK82GERX11JAP9EE8Q5PW9SBC                                      0   \n",
       ", , 6JAXPMTP114Y4JQX2TG83JFGQ0                                        0   \n",
       ", , 85XDD551T95Z4XHVF1TQKFCV2C                                        0   \n",
       ", , B61BK65Q1D2YQ1543MRXE8PDMW,                                       0   \n",
       ", , FBC8SYMM9X6BAT939T433N5QAW                                        0   \n",
       ", , M3PMH9XD4D1F1BE7EDP6FEN6WW,                                       0   \n",
       ", , N330DW4MT563B0Z5ET8H78WKY4                                        0   \n",
       "\n",
       "beverage                         z dunkertons dry organic cider  \\\n",
       "customer_id                                                       \n",
       ",                                                             0   \n",
       ", ,                                                           0   \n",
       ", , ,                                                         0   \n",
       ", , , 9YK82GERX11JAP9EE8Q5PW9SBC                              0   \n",
       ", , 6JAXPMTP114Y4JQX2TG83JFGQ0                                0   \n",
       ", , 85XDD551T95Z4XHVF1TQKFCV2C                                0   \n",
       ", , B61BK65Q1D2YQ1543MRXE8PDMW,                               0   \n",
       ", , FBC8SYMM9X6BAT939T433N5QAW                                0   \n",
       ", , M3PMH9XD4D1F1BE7EDP6FEN6WW,                               0   \n",
       ", , N330DW4MT563B0Z5ET8H78WKY4                                0   \n",
       "\n",
       "beverage                         z raspberry - lockhorn  \\\n",
       "customer_id                                               \n",
       ",                                                     0   \n",
       ", ,                                                   0   \n",
       ", , ,                                                 0   \n",
       ", , , 9YK82GERX11JAP9EE8Q5PW9SBC                      0   \n",
       ", , 6JAXPMTP114Y4JQX2TG83JFGQ0                        0   \n",
       ", , 85XDD551T95Z4XHVF1TQKFCV2C                        0   \n",
       ", , B61BK65Q1D2YQ1543MRXE8PDMW,                       0   \n",
       ", , FBC8SYMM9X6BAT939T433N5QAW                        0   \n",
       ", , M3PMH9XD4D1F1BE7EDP6FEN6WW,                       0   \n",
       ", , N330DW4MT563B0Z5ET8H78WKY4                        0   \n",
       "\n",
       "beverage                         z western cider mcintosh  \\\n",
       "customer_id                                                 \n",
       ",                                                       0   \n",
       ", ,                                                     0   \n",
       ", , ,                                                   0   \n",
       ", , , 9YK82GERX11JAP9EE8Q5PW9SBC                        0   \n",
       ", , 6JAXPMTP114Y4JQX2TG83JFGQ0                          0   \n",
       ", , 85XDD551T95Z4XHVF1TQKFCV2C                          0   \n",
       ", , B61BK65Q1D2YQ1543MRXE8PDMW,                         0   \n",
       ", , FBC8SYMM9X6BAT939T433N5QAW                          0   \n",
       ", , M3PMH9XD4D1F1BE7EDP6FEN6WW,                         0   \n",
       ", , N330DW4MT563B0Z5ET8H78WKY4                          0   \n",
       "\n",
       "beverage                         z whitetail whit - beaverhead  \\\n",
       "customer_id                                                      \n",
       ",                                                            0   \n",
       ", ,                                                          0   \n",
       ", , ,                                                        0   \n",
       ", , , 9YK82GERX11JAP9EE8Q5PW9SBC                             0   \n",
       ", , 6JAXPMTP114Y4JQX2TG83JFGQ0                               0   \n",
       ", , 85XDD551T95Z4XHVF1TQKFCV2C                               0   \n",
       ", , B61BK65Q1D2YQ1543MRXE8PDMW,                              0   \n",
       ", , FBC8SYMM9X6BAT939T433N5QAW                               0   \n",
       ", , M3PMH9XD4D1F1BE7EDP6FEN6WW,                              0   \n",
       ", , N330DW4MT563B0Z5ET8H78WKY4                               0   \n",
       "\n",
       "beverage                         z39w les vignerones estezargues \"from the tank\"  \n",
       "customer_id                                                                       \n",
       ",                                                                              0  \n",
       ", ,                                                                            0  \n",
       ", , ,                                                                          0  \n",
       ", , , 9YK82GERX11JAP9EE8Q5PW9SBC                                               0  \n",
       ", , 6JAXPMTP114Y4JQX2TG83JFGQ0                                                 0  \n",
       ", , 85XDD551T95Z4XHVF1TQKFCV2C                                                 0  \n",
       ", , B61BK65Q1D2YQ1543MRXE8PDMW,                                                0  \n",
       ", , FBC8SYMM9X6BAT939T433N5QAW                                                 0  \n",
       ", , M3PMH9XD4D1F1BE7EDP6FEN6WW,                                                0  \n",
       ", , N330DW4MT563B0Z5ET8H78WKY4                                                 0  \n",
       "\n",
       "[10 rows x 922 columns]"
      ]
     },
     "execution_count": 31,
     "metadata": {},
     "output_type": "execute_result"
    }
   ],
   "source": [
    "df_pivot.head(10)"
   ]
  },
  {
   "cell_type": "markdown",
   "id": "4074b52a",
   "metadata": {},
   "source": [
    "# PCA on Dram Shop Top Beverage Sales\n",
    "This data will represent our case for PCA, with about 1,000 dimensions of gross sales data for each owner. This section used the PCA function from sci-kit learn. "
   ]
  },
  {
   "cell_type": "code",
   "execution_count": 32,
   "id": "90718b2f",
   "metadata": {},
   "outputs": [
    {
     "name": "stdout",
     "output_type": "stream",
     "text": [
      "[0.53160388 0.14193251 0.02736444 0.02130329 0.0138348  0.01231587\n",
      " 0.01168527 0.01094826 0.00939847 0.00803405]\n"
     ]
    }
   ],
   "source": [
    "pca = PCA(n_components=10, svd_solver='full')\n",
    "pca.fit(df_pivot)\n",
    "\n",
    "print(pca.explained_variance_ratio_)"
   ]
  },
  {
   "cell_type": "markdown",
   "id": "34d5aa05",
   "metadata": {},
   "source": [
    "## Variance Explained\n",
    "When working with PCA it is important to look at the explained variance. Our PCA object has two variance statistics: `explained_variance_` and `explained_variance_ratio_`. The former is the variance explained by the component in raw terms, the latter normalizes by the total variance of the data set. We will look at the normalized value for the first 10 components."
   ]
  },
  {
   "cell_type": "code",
   "execution_count": 33,
   "id": "64f80c06",
   "metadata": {
    "scrolled": true
   },
   "outputs": [
    {
     "data": {
      "image/png": "[encoded data removed]",
      "text/plain": [
       "<Figure size 576x288 with 1 Axes>"
      ]
     },
     "metadata": {
      "needs_background": "light"
     },
     "output_type": "display_data"
    }
   ],
   "source": [
    "explained_variance = pd.DataFrame(pca.explained_variance_ratio_)\n",
    "ax = explained_variance.head(20).plot.bar(legend=False, figsize=(8, 4))\n",
    "ax.set_xlabel('Component')\n",
    "plt.tight_layout()\n",
    "plt.show()"
   ]
  },
  {
   "cell_type": "markdown",
   "id": "e49796cf",
   "metadata": {},
   "source": [
    "We can see that the first component explained a large portion of the variance than the others. The next one explains more than the others as well. After the third component, we see a generally flattend curve on this scale. "
   ]
  },
  {
   "cell_type": "code",
   "execution_count": 50,
   "id": "5ec01e7a",
   "metadata": {},
   "outputs": [],
   "source": [
    "cume_explained_variance = pd.DataFrame(pca.explained_variance_ratio_).cumsum()"
   ]
  },
  {
   "cell_type": "code",
   "execution_count": 51,
   "id": "3b896298",
   "metadata": {
    "scrolled": true
   },
   "outputs": [
    {
     "data": {
      "image/png": "[encoded data removed]",
      "text/plain": [
       "<Figure size 576x288 with 1 Axes>"
      ]
     },
     "metadata": {
      "needs_background": "light"
     },
     "output_type": "display_data"
    }
   ],
   "source": [
    "#showing the first value\n",
    "ax = cume_explained_variance.head(150).plot.line(legend=False, figsize=(8, 4))\n",
    "ax.set_xlabel('Component')\n",
    "plt.tight_layout()\n",
    "plt.show()"
   ]
  },
  {
   "cell_type": "markdown",
   "id": "70eebb30",
   "metadata": {},
   "source": [
    "We can see that about 80% of our variance is explained by 10 components. "
   ]
  },
  {
   "cell_type": "markdown",
   "id": "ed8667fc",
   "metadata": {},
   "source": [
    "## Investigate our Loadings\n",
    "We will examine how the sales of each product affect the linear combination represented by each component. Generally, one can expect to observe both positive and negative values, which indicate a component is contrasting two different types of observations. Especially large values in absolute terms have the greatest influence."
   ]
  },
  {
   "cell_type": "code",
   "execution_count": 53,
   "id": "8c98913c",
   "metadata": {
    "scrolled": true
   },
   "outputs": [
    {
     "data": {
      "text/html": [
       "<div>\n",
       "<style scoped>\n",
       "    .dataframe tbody tr th:only-of-type {\n",
       "        vertical-align: middle;\n",
       "    }\n",
       "\n",
       "    .dataframe tbody tr th {\n",
       "        vertical-align: top;\n",
       "    }\n",
       "\n",
       "    .dataframe thead th {\n",
       "        text-align: right;\n",
       "    }\n",
       "</style>\n",
       "<table border=\"1\" class=\"dataframe\">\n",
       "  <thead>\n",
       "    <tr style=\"text-align: right;\">\n",
       "      <th></th>\n",
       "      <th>0</th>\n",
       "      <th>1</th>\n",
       "      <th>2</th>\n",
       "      <th>3</th>\n",
       "      <th>4</th>\n",
       "      <th>5</th>\n",
       "      <th>6</th>\n",
       "      <th>7</th>\n",
       "      <th>8</th>\n",
       "      <th>9</th>\n",
       "    </tr>\n",
       "    <tr>\n",
       "      <th>beverage</th>\n",
       "      <th></th>\n",
       "      <th></th>\n",
       "      <th></th>\n",
       "      <th></th>\n",
       "      <th></th>\n",
       "      <th></th>\n",
       "      <th></th>\n",
       "      <th></th>\n",
       "      <th></th>\n",
       "      <th></th>\n",
       "    </tr>\n",
       "  </thead>\n",
       "  <tbody>\n",
       "    <tr>\n",
       "      <th>build your own flight</th>\n",
       "      <td>-0.000205</td>\n",
       "      <td>-0.000446</td>\n",
       "      <td>0.006316</td>\n",
       "      <td>-0.003426</td>\n",
       "      <td>-0.001217</td>\n",
       "      <td>-0.002478</td>\n",
       "      <td>-0.005435</td>\n",
       "      <td>0.004123</td>\n",
       "      <td>-0.004127</td>\n",
       "      <td>-0.002634</td>\n",
       "    </tr>\n",
       "    <tr>\n",
       "      <th>$6 token</th>\n",
       "      <td>-0.000067</td>\n",
       "      <td>-0.000122</td>\n",
       "      <td>-0.000660</td>\n",
       "      <td>-0.000234</td>\n",
       "      <td>-0.001267</td>\n",
       "      <td>0.000746</td>\n",
       "      <td>-0.000453</td>\n",
       "      <td>-0.002110</td>\n",
       "      <td>0.001417</td>\n",
       "      <td>-0.005954</td>\n",
       "    </tr>\n",
       "    <tr>\n",
       "      <th>renner sistas super glitzer 2019</th>\n",
       "      <td>-0.000028</td>\n",
       "      <td>-0.000041</td>\n",
       "      <td>0.000904</td>\n",
       "      <td>-0.000058</td>\n",
       "      <td>-0.000367</td>\n",
       "      <td>-0.000346</td>\n",
       "      <td>-0.000259</td>\n",
       "      <td>-0.000232</td>\n",
       "      <td>0.000077</td>\n",
       "      <td>-0.000056</td>\n",
       "    </tr>\n",
       "    <tr>\n",
       "      <th>de troch - oude gueuze</th>\n",
       "      <td>-0.000026</td>\n",
       "      <td>-0.000039</td>\n",
       "      <td>0.000202</td>\n",
       "      <td>-0.000201</td>\n",
       "      <td>0.001336</td>\n",
       "      <td>0.003309</td>\n",
       "      <td>0.000462</td>\n",
       "      <td>0.000680</td>\n",
       "      <td>-0.000415</td>\n",
       "      <td>-0.000316</td>\n",
       "    </tr>\n",
       "    <tr>\n",
       "      <th>24 duchesse de bourgogne</th>\n",
       "      <td>-0.000025</td>\n",
       "      <td>-0.000142</td>\n",
       "      <td>0.001499</td>\n",
       "      <td>-0.000974</td>\n",
       "      <td>0.008820</td>\n",
       "      <td>-0.003164</td>\n",
       "      <td>-0.004651</td>\n",
       "      <td>0.024099</td>\n",
       "      <td>-0.008596</td>\n",
       "      <td>-0.004135</td>\n",
       "    </tr>\n",
       "  </tbody>\n",
       "</table>\n",
       "</div>"
      ],
      "text/plain": [
       "                                         0         1         2         3  \\\n",
       "beverage                                                                   \n",
       "build your own flight            -0.000205 -0.000446  0.006316 -0.003426   \n",
       "$6 token                         -0.000067 -0.000122 -0.000660 -0.000234   \n",
       "renner sistas super glitzer 2019 -0.000028 -0.000041  0.000904 -0.000058   \n",
       "de troch - oude gueuze           -0.000026 -0.000039  0.000202 -0.000201   \n",
       "24 duchesse de bourgogne         -0.000025 -0.000142  0.001499 -0.000974   \n",
       "\n",
       "                                         4         5         6         7  \\\n",
       "beverage                                                                   \n",
       "build your own flight            -0.001217 -0.002478 -0.005435  0.004123   \n",
       "$6 token                         -0.001267  0.000746 -0.000453 -0.002110   \n",
       "renner sistas super glitzer 2019 -0.000367 -0.000346 -0.000259 -0.000232   \n",
       "de troch - oude gueuze            0.001336  0.003309  0.000462  0.000680   \n",
       "24 duchesse de bourgogne          0.008820 -0.003164 -0.004651  0.024099   \n",
       "\n",
       "                                         8         9  \n",
       "beverage                                              \n",
       "build your own flight            -0.004127 -0.002634  \n",
       "$6 token                          0.001417 -0.005954  \n",
       "renner sistas super glitzer 2019  0.000077 -0.000056  \n",
       "de troch - oude gueuze           -0.000415 -0.000316  \n",
       "24 duchesse de bourgogne         -0.008596 -0.004135  "
      ]
     },
     "execution_count": 53,
     "metadata": {},
     "output_type": "execute_result"
    }
   ],
   "source": [
    "loadings = pd.DataFrame(pca.components_[0:50, :], \n",
    "                        columns=df_pivot.columns)\n",
    "loadings.transpose().sort_values(0).head()"
   ]
  },
  {
   "cell_type": "markdown",
   "id": "cd117450",
   "metadata": {},
   "source": [
    "This display is hard to see patterns and is not very helpful. Let's visaulize this."
   ]
  },
  {
   "cell_type": "code",
   "execution_count": 54,
   "id": "cf7a23e6",
   "metadata": {
    "scrolled": false
   },
   "outputs": [
    {
     "name": "stderr",
     "output_type": "stream",
     "text": [
      "/var/folders/np/jf6g_y1x1936njwpvh79lbmc0000gn/T/ipykernel_12451/3536290351.py:1: FutureWarning: In a future version of pandas all arguments of Series.sort_values will be keyword-only.\n",
      "  pc_loading = loadings.loc[0, :].sort_values(0).tail(n=20)\n",
      "/var/folders/np/jf6g_y1x1936njwpvh79lbmc0000gn/T/ipykernel_12451/3536290351.py:4: UserWarning: Tight layout not applied. The bottom and top margins cannot be made large enough to accommodate all axes decorations.\n",
      "  plt.tight_layout()\n"
     ]
    },
    {
     "data": {
      "image/png": "[encoded data removed]",
      "text/plain": [
       "<Figure size 432x288 with 1 Axes>"
      ]
     },
     "metadata": {
      "needs_background": "light"
     },
     "output_type": "display_data"
    }
   ],
   "source": [
    "pc_loading = loadings.loc[0, :].sort_values(0).tail(n=20)\n",
    "pc_loading.plot.bar()\n",
    "plt.ylabel(\"PC1 Loading\")\n",
    "plt.tight_layout()\n",
    "plt.show()"
   ]
  },
  {
   "cell_type": "markdown",
   "id": "490fa5a5",
   "metadata": {},
   "source": [
    "This component has positive loadings for all beverage categories, with the highest being single malt ipa. "
   ]
  },
  {
   "cell_type": "markdown",
   "id": "d4803fb7",
   "metadata": {},
   "source": [
    "Let's look at the other components.\n",
    "\n",
    "Before we do that, let's write a function that will plot the component for us. This was developed from [this helpful blog post](https://medium.com/analytics-vidhya/pca-and-how-to-interpret-it-with-python-8aa664f7a69a) and took a lot of time and work to apply it to my project. "
   ]
  },
  {
   "cell_type": "code",
   "execution_count": 35,
   "id": "741fd288",
   "metadata": {},
   "outputs": [],
   "source": [
    "def show_component(component,cutoff=0.05) : \n",
    "    \n",
    "    pc_loading = loadings.transpose().iloc[:,component-1]\n",
    "    pc_loading = pc_loading.loc[pc_loading.abs() > cutoff].sort_values()\n",
    "    max_pc = max(pc_loading.abs())\n",
    "    colors = ['C0' if l > 0 else 'C1' for l in pc_loading]\n",
    "\n",
    "    pc_loading.plot.bar(color = colors)\n",
    "    ax = plt.gca()\n",
    "    plt.axhline(y=0,c=\"#888888\")\n",
    "    ax.set_ylim(-max_pc, max_pc)\n",
    "    plt.tight_layout()\n",
    "    plt.xticks(rotation=45, ha='right')\n",
    "    plt.show()"
   ]
  },
  {
   "cell_type": "markdown",
   "id": "a4e733a5",
   "metadata": {},
   "source": [
    "### Component One: Single Malt IPA\n",
    "This is a person who always purhcases the Single Malt IPA. After a little digging, this is the Blackfoot River Single Malt IPA, a local popular beer. "
   ]
  },
  {
   "cell_type": "code",
   "execution_count": 61,
   "id": "869b535c",
   "metadata": {
    "scrolled": true
   },
   "outputs": [
    {
     "data": {
      "image/png": "[encoded data removed]",
      "text/plain": [
       "<Figure size 432x288 with 1 Axes>"
      ]
     },
     "metadata": {
      "needs_background": "light"
     },
     "output_type": "display_data"
    }
   ],
   "source": [
    "show_component(1,.01)"
   ]
  },
  {
   "cell_type": "markdown",
   "id": "dff80194",
   "metadata": {},
   "source": [
    "### Component Two: Popular Pilsner\n",
    "We could probably assume that the larger listed is a pilsner larger. These customers stick to this group and they do not like the popular IPA. "
   ]
  },
  {
   "cell_type": "code",
   "execution_count": 59,
   "id": "520442ab",
   "metadata": {
    "scrolled": false
   },
   "outputs": [
    {
     "data": {
      "image/png": "[encoded data removed]",
      "text/plain": [
       "<Figure size 432x288 with 1 Axes>"
      ]
     },
     "metadata": {
      "needs_background": "light"
     },
     "output_type": "display_data"
    }
   ],
   "source": [
    "show_component(2,.02)"
   ]
  },
  {
   "cell_type": "markdown",
   "id": "215d6a53",
   "metadata": {},
   "source": [
    "### Component Three:  High ABV\n",
    "We have people who love IPA but a chilled red as well. This particular chilled red is 13.5% which is on the higher ABV side. This grouping prefers the IPA, a good red wine and does not like pilsner."
   ]
  },
  {
   "cell_type": "code",
   "execution_count": 38,
   "id": "e786cb10",
   "metadata": {},
   "outputs": [
    {
     "name": "stderr",
     "output_type": "stream",
     "text": [
      "/var/folders/np/jf6g_y1x1936njwpvh79lbmc0000gn/T/ipykernel_12451/1476282274.py:12: UserWarning: Tight layout not applied. The bottom and top margins cannot be made large enough to accommodate all axes decorations.\n",
      "  plt.tight_layout()\n"
     ]
    },
    {
     "data": {
      "image/png": "[encoded data removed]",
      "text/plain": [
       "<Figure size 432x288 with 1 Axes>"
      ]
     },
     "metadata": {
      "needs_background": "light"
     },
     "output_type": "display_data"
    }
   ],
   "source": [
    "show_component(3,.05)\n"
   ]
  },
  {
   "cell_type": "markdown",
   "id": "b25bc1e7",
   "metadata": {},
   "source": [
    "### Component Four:  Wine Lover\n",
    "These customers come in for the wine (moreso organice wine.) The Dram Shop features a vast collection of wines that come from rural and small regoins. "
   ]
  },
  {
   "cell_type": "code",
   "execution_count": 39,
   "id": "bb24e4ea",
   "metadata": {
    "scrolled": false
   },
   "outputs": [
    {
     "name": "stderr",
     "output_type": "stream",
     "text": [
      "/var/folders/np/jf6g_y1x1936njwpvh79lbmc0000gn/T/ipykernel_12451/1476282274.py:12: UserWarning: Tight layout not applied. The bottom and top margins cannot be made large enough to accommodate all axes decorations.\n",
      "  plt.tight_layout()\n"
     ]
    },
    {
     "data": {
      "image/png": "[encoded data removed]",
      "text/plain": [
       "<Figure size 432x288 with 1 Axes>"
      ]
     },
     "metadata": {
      "needs_background": "light"
     },
     "output_type": "display_data"
    }
   ],
   "source": [
    "show_component(4,.05)"
   ]
  },
  {
   "cell_type": "markdown",
   "id": "c916eed5",
   "metadata": {},
   "source": [
    "### Component Five: The Hoppy Hipster\n",
    "Not limited to only hops, but there for the beers that are not mainstream. There are high fruity flavors and wine blends that they enjoy. This could also be two people (partners) who may share an account. "
   ]
  },
  {
   "cell_type": "code",
   "execution_count": 40,
   "id": "c54b4ac4",
   "metadata": {
    "scrolled": true
   },
   "outputs": [
    {
     "name": "stderr",
     "output_type": "stream",
     "text": [
      "/var/folders/np/jf6g_y1x1936njwpvh79lbmc0000gn/T/ipykernel_12451/1476282274.py:12: UserWarning: Tight layout not applied. The bottom and top margins cannot be made large enough to accommodate all axes decorations.\n",
      "  plt.tight_layout()\n"
     ]
    },
    {
     "data": {
      "image/png": "[encoded data removed]",
      "text/plain": [
       "<Figure size 432x288 with 1 Axes>"
      ]
     },
     "metadata": {
      "needs_background": "light"
     },
     "output_type": "display_data"
    }
   ],
   "source": [
    "show_component(5,.05)\n"
   ]
  }
 ],
 "metadata": {
  "kernelspec": {
   "display_name": "Python 3 (ipykernel)",
   "language": "python",
   "name": "python3"
  },
  "language_info": {
   "codemirror_mode": {
    "name": "ipython",
    "version": 3
   },
   "file_extension": ".py",
   "mimetype": "text/x-python",
   "name": "python",
   "nbconvert_exporter": "python",
   "pygments_lexer": "ipython3",
   "version": "3.9.12"
  }
 },
 "nbformat": 4,
 "nbformat_minor": 5
}
